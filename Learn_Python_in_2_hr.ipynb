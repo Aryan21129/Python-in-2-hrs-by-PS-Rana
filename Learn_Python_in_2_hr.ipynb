{
  "nbformat": 4,
  "nbformat_minor": 0,
  "metadata": {
    "colab": {
      "name": "Learn Python in 2 hr.ipynb",
      "provenance": [],
      "collapsed_sections": [],
      "authorship_tag": "ABX9TyOG2++IlT0Nual9DGR2Swpw",
      "include_colab_link": true
    },
    "kernelspec": {
      "name": "python3",
      "display_name": "Python 3"
    },
    "language_info": {
      "name": "python"
    }
  },
  "cells": [
    {
      "cell_type": "markdown",
      "metadata": {
        "id": "view-in-github",
        "colab_type": "text"
      },
      "source": [
        "<a href=\"https://colab.research.google.com/github/psrana/Learn-Python-in-2-hr/blob/main/Learn_Python_in_2_hr.ipynb\" target=\"_parent\"><img src=\"https://colab.research.google.com/assets/colab-badge.svg\" alt=\"Open In Colab\"/></a>"
      ]
    },
    {
      "cell_type": "markdown",
      "metadata": {
        "id": "NgayMd7cK3U6"
      },
      "source": [
        "---\n",
        "# **Learn Python in 2 hr**\n",
        "---\n",
        "### There are 16 programs to clear the various concepts in python programming such as:\n",
        "```\n",
        "Syntex, Loop, if-else, Data Structures, Strings, File Handaling, Exception Handaling, \n",
        "Random Numbers, Use of Libraries\n",
        "```\n",
        "\n",
        "---\n",
        "### **Self learning resource**\n",
        "Tutorial on Python (Byte of Python) **<a href=\"https://python.swaroopch.com/\"> Click Here</a>** \n",
        "\n",
        "\n",
        "```\n",
        "\n",
        "\n",
        "\n",
        "```\n",
        "\n",
        "\n",
        "\n",
        "\n",
        "---\n",
        "# **1. Hello World**\n",
        "---\n",
        "**Learning:** How to print and run python program"
      ]
    },
    {
      "cell_type": "code",
      "metadata": {
        "colab": {
          "base_uri": "https://localhost:8080/"
        },
        "id": "e4JFo1WM8ZON",
        "outputId": "17f5bc4a-6226-4d2a-871e-9600be94abfd"
      },
      "source": [
        "print (\"Hello World\")"
      ],
      "execution_count": null,
      "outputs": [
        {
          "output_type": "stream",
          "text": [
            "Hello World\n"
          ],
          "name": "stdout"
        }
      ]
    },
    {
      "cell_type": "markdown",
      "metadata": {
        "id": "oBs7uRGQPn3J"
      },
      "source": [
        "**Assingment 1.1**: WAP to print your name three times"
      ]
    },
    {
      "cell_type": "markdown",
      "metadata": {
        "id": "EOp1wf9hlyC2"
      },
      "source": [
        "---\n",
        "# **2. Add numbers and Concatinate strings**\n",
        "**Learning:** How to delclare variable, add and print result\n",
        "\n",
        "---\n",
        "### **2.1 Add two numbers**\n"
      ]
    },
    {
      "cell_type": "code",
      "metadata": {
        "id": "sk_6l4N6l-vH"
      },
      "source": [
        "a = 10\t\t\t\t\n",
        "b = 220\n",
        "c = a + b       # Add two numbers\n",
        "print (a, \" + \", b, \" --> \", c)"
      ],
      "execution_count": null,
      "outputs": []
    },
    {
      "cell_type": "markdown",
      "metadata": {
        "id": "iGXiAQqI4AvC"
      },
      "source": [
        "\n",
        "---\n",
        "### **2.2 Add two numbers**\n",
        "---"
      ]
    },
    {
      "cell_type": "code",
      "metadata": {
        "id": "o-kCSsW7lxNF"
      },
      "source": [
        "a = \"Bhagat\"\n",
        "b = \" Singh\"\n",
        "c = a + b\t\t# Concatinate two strings\n",
        "print (a, \" + \", b, \" --> \", c)"
      ],
      "execution_count": null,
      "outputs": []
    },
    {
      "cell_type": "markdown",
      "metadata": {
        "id": "hA7PLi-m4V8s"
      },
      "source": [
        "**Assingment 2.1**: WAP to add three numbers and print result\n",
        "\n",
        "**Assingment 2.2**: WAP to concatinate three strings and print result"
      ]
    },
    {
      "cell_type": "markdown",
      "metadata": {
        "id": "4CAypM6A5Jmx"
      },
      "source": [
        "---\n",
        "# **3. Input from user**\n",
        "**Learning:** How to take input from user\n",
        "\n",
        "---\n",
        "### **3.1 Input two numbers from user and add them**"
      ]
    },
    {
      "cell_type": "code",
      "metadata": {
        "id": "EzB8G_a95d4X"
      },
      "source": [
        "a = int(input(\"Enter First No: \"))\n",
        "b = int(input(\"Enter Second No: \"))\n",
        "c = a + b\n",
        "print (a, \" + \", b, \" --> \", c)"
      ],
      "execution_count": null,
      "outputs": []
    },
    {
      "cell_type": "markdown",
      "metadata": {
        "id": "z1uDaVtK5tX_"
      },
      "source": [
        "---\n",
        "### **3.2 Input two strings from user and concatinate them**\n",
        "---"
      ]
    },
    {
      "cell_type": "code",
      "metadata": {
        "id": "aDsOjDWs5tYB"
      },
      "source": [
        "a = input(\"Enter First String: \")\n",
        "b = input(\"Enter Second String: \")\n",
        "c = a + b\t\t# concatinate two strings\n",
        "print  (a, \" + \", b, \" --> \", c)"
      ],
      "execution_count": null,
      "outputs": []
    },
    {
      "cell_type": "markdown",
      "metadata": {
        "id": "2U22p6au9xIw"
      },
      "source": [
        "**Assingment 3.1**: WAP to add three numbers, inputs from user and print result.\n",
        "\n",
        "*Try: In above program, give number in place of string and\n",
        "try to get the difference between input()\n",
        "and raw_input() function.*\n",
        "\n",
        "**Assingment 3.2**: WAP to concatinate three strings, inputs from user and print"
      ]
    },
    {
      "cell_type": "markdown",
      "metadata": {
        "id": "VCXIhMtP-puV"
      },
      "source": [
        "---\n",
        "# **4. Loop**\n",
        "**Learning:** How to take input from user\n",
        "\n",
        "---\n",
        "### **4.1 While Loop**"
      ]
    },
    {
      "cell_type": "code",
      "metadata": {
        "id": "ESdyGeh9-puX"
      },
      "source": [
        "i=1\n",
        "while i <= 10:\n",
        "\tprint (i)\n",
        "\ti = i+1"
      ],
      "execution_count": null,
      "outputs": []
    },
    {
      "cell_type": "markdown",
      "metadata": {
        "id": "rd_F8ksi-puZ"
      },
      "source": [
        "---\n",
        "### **4.2 Range Function**\n",
        "---"
      ]
    },
    {
      "cell_type": "code",
      "metadata": {
        "id": "_U_Of2tu-puZ"
      },
      "source": [
        "print (\"range(10) --> \", list(range(10)))\n",
        "print (\"range(0,20) --> \", list(range(0,20)))\n",
        "print (\"range(10,20) --> \", list(range(10,20)))\n",
        "print (\"range(0,20,2) --> \", list(range(0,20,2)))\n",
        "print (\"range(-10,-20,2) --> \", list(range(-10,-20,2)))\n",
        "print (\"range(-10,-20,-2) --> \", list(range(-10,-20,-2)))\n"
      ],
      "execution_count": null,
      "outputs": []
    },
    {
      "cell_type": "markdown",
      "metadata": {
        "id": "Xny977qN_f_f"
      },
      "source": [
        "---\n",
        "### **4.3 For loop**\n",
        "---\n",
        "### **4.3.1 For loop - Version 1**"
      ]
    },
    {
      "cell_type": "code",
      "metadata": {
        "id": "JXsAol2L_f_h"
      },
      "source": [
        "for i in range(0,10):\n",
        "\tprint (i)"
      ],
      "execution_count": null,
      "outputs": []
    },
    {
      "cell_type": "markdown",
      "metadata": {
        "id": "Xk5XRRV8_gMq"
      },
      "source": [
        "---\n",
        "### **4.3.2 For loop - Version 2**\n",
        "---"
      ]
    },
    {
      "cell_type": "code",
      "metadata": {
        "id": "w8scyduB_gMr"
      },
      "source": [
        "for i in range(0,20,2):\n",
        "\tprint (i)"
      ],
      "execution_count": null,
      "outputs": []
    },
    {
      "cell_type": "markdown",
      "metadata": {
        "id": "_NNQrHRXAZ8a"
      },
      "source": [
        "---\n",
        "### **4.3.3 For loop - Version 3**\n",
        "---"
      ]
    },
    {
      "cell_type": "code",
      "metadata": {
        "id": "18Im8yX7AZ8a"
      },
      "source": [
        "for i in range(0,-10,-1):\n",
        "\tprint (i)"
      ],
      "execution_count": null,
      "outputs": []
    },
    {
      "cell_type": "markdown",
      "metadata": {
        "id": "Meq_Hv4RAaHS"
      },
      "source": [
        "---\n",
        "### **4.4 Print table of 5**\n",
        "---"
      ]
    },
    {
      "cell_type": "code",
      "metadata": {
        "id": "EvPN2wvOAaHT"
      },
      "source": [
        "for i in range(1,11):\n",
        "\tprint (5,\" * \", i , \" = \", i * 5)"
      ],
      "execution_count": null,
      "outputs": []
    },
    {
      "cell_type": "markdown",
      "metadata": {
        "id": "aZErlsXYAaPu"
      },
      "source": [
        "---\n",
        "### **4.5 Sum all numbers from 1 to 10**\n",
        "---\n",
        "### **4.5.1 Version 1**"
      ]
    },
    {
      "cell_type": "code",
      "metadata": {
        "id": "ddCg6qxQAaPv"
      },
      "source": [
        "s=0\n",
        "for i in range(1,11):\n",
        "\ts=s+i\n",
        "print (\"Sum is --> \",s)"
      ],
      "execution_count": null,
      "outputs": []
    },
    {
      "cell_type": "markdown",
      "metadata": {
        "id": "UucWFIAt_gV_"
      },
      "source": [
        "---\n",
        "### **4.5.2 Version 2**\n",
        "---"
      ]
    },
    {
      "cell_type": "code",
      "metadata": {
        "id": "cD3y-1lM_gWB"
      },
      "source": [
        "print (\"Sum is --> \", sum(range(1,11)))"
      ],
      "execution_count": null,
      "outputs": []
    },
    {
      "cell_type": "markdown",
      "metadata": {
        "id": "DnUEH0WQ-pua"
      },
      "source": [
        "**Assingment 4.1:** WAP to print the table of 7, 9.\n",
        "\n",
        "**Assingment 4.2:** WAP to print the table of n and n is given by user.\n",
        "\n",
        "**Assingment 4.3:** WAP to add all the numbers from 1 to n and n is given by user."
      ]
    },
    {
      "cell_type": "markdown",
      "metadata": {
        "id": "6eraxEhZCJRU"
      },
      "source": [
        "---\n",
        "# **5. If-Else - Conditional Checking**\n",
        "**Learning:** if-else Condition\n",
        "\n",
        "---\n",
        "### **5.1 Input two numbers from user and compare them**"
      ]
    },
    {
      "cell_type": "code",
      "metadata": {
        "id": "63a8CKQ9CJRV"
      },
      "source": [
        "a = int(input(\"Enter First No: \"))\n",
        "b = int(input(\"Enter Second No: \"))\n",
        "if  a > b: \n",
        "\tprint (a,\" > \",b)\n",
        "else:\n",
        "\tprint (a,\" < \",b)"
      ],
      "execution_count": null,
      "outputs": []
    },
    {
      "cell_type": "markdown",
      "metadata": {
        "id": "zPayD7lwCJRW"
      },
      "source": [
        "---\n",
        "### **5.2 Check weather a number is odd or even**\n",
        "---"
      ]
    },
    {
      "cell_type": "code",
      "metadata": {
        "id": "I2ohfxlRCJRW"
      },
      "source": [
        "n = int(input(\"Enter a No: \"))\n",
        "if  n % 2 == 0: \n",
        "\tprint (n,\" is even\")\n",
        "else:\n",
        "\tprint (n,\" is odd\")"
      ],
      "execution_count": null,
      "outputs": []
    },
    {
      "cell_type": "markdown",
      "metadata": {
        "id": "861tynfFCJRX"
      },
      "source": [
        "---\n",
        "### **5.3 Check weather a number is prime of not**\n",
        "---"
      ]
    },
    {
      "cell_type": "code",
      "metadata": {
        "id": "q37Sy99JCJRZ"
      },
      "source": [
        "n = int(input(\"Enter a No: \"))\n",
        "f=0\n",
        "for i in range(2, int(n/2) + 1):\n",
        "\tif  n % i == 0: \n",
        "\t\tf=1\n",
        "\t\tbreak\n",
        "\n",
        "if f==0:\n",
        "\tprint (\"Prime\")\n",
        "else:\n",
        "\tprint (\"Not Prime\")"
      ],
      "execution_count": null,
      "outputs": []
    },
    {
      "cell_type": "markdown",
      "metadata": {
        "id": "YCf466JQCJRa"
      },
      "source": [
        "---\n",
        "### **5.4 Conditional Checking - Compare strings**\n",
        "---"
      ]
    },
    {
      "cell_type": "code",
      "metadata": {
        "id": "YSTLUkUVCJRb"
      },
      "source": [
        "a = input(\"Enter First String: \")\n",
        "b = input(\"Enter Second String: \")\n",
        "\n",
        "if a == b: \n",
        "\tprint (\"a == b\")\n",
        "elif a >= b: \n",
        "\tprint (\"a > b\")\n",
        "else:\n",
        "\tprint (\"a < b\")"
      ],
      "execution_count": null,
      "outputs": []
    },
    {
      "cell_type": "markdown",
      "metadata": {
        "id": "bPPQtf1ACJRg"
      },
      "source": [
        "**Assingment 5.1:** WAP to find max amoung three numbers and input from user. [Try max() function]\n",
        "\n",
        "**Assingment 5.2:** WAP to add all even numbers from 1 to n and n is given by user.\n",
        "\n",
        "**Assingment 5.3:** WAP to add all prime numbers from 1 to n and n is given by user.\n"
      ]
    },
    {
      "cell_type": "markdown",
      "metadata": {
        "id": "_dC1CuVnDipZ"
      },
      "source": [
        "---\n",
        "# **6. Functions**\n",
        "**Learning:** How to declare and call\n",
        "\n",
        "---\n",
        "### **6.1 Add two numbers**"
      ]
    },
    {
      "cell_type": "code",
      "metadata": {
        "id": "_Vw-ZYlDDipb"
      },
      "source": [
        "def Add(a,b):\n",
        "\tc=a+b\n",
        "\treturn c\n",
        "\n",
        "print (\"Add(10,20) -->\", Add(10,20))\n",
        "print (\"Add(20,50) -->\", Add(20,50)) \n",
        "print (\"Add(80,200) -->\", Add(80,200)) "
      ],
      "execution_count": null,
      "outputs": []
    },
    {
      "cell_type": "markdown",
      "metadata": {
        "id": "ygKAg2QjDipc"
      },
      "source": [
        "---\n",
        "### **6.2 Prime number**\n",
        "---"
      ]
    },
    {
      "cell_type": "code",
      "metadata": {
        "id": "sg8feM_YDipc"
      },
      "source": [
        "def IsPrime(n):\n",
        "\tfor i in range(2,int(n/2)+1):\n",
        "\t\tif n%i==0:\n",
        "\t\t\treturn 0\n",
        "\treturn 1\n",
        "\n",
        "print (\"IsPrime(20) --> \", IsPrime(20))\n",
        "print (\"IsPrime(23) --> \", IsPrime(23))\n",
        "print (\"IsPrime(200) --> \", IsPrime(200))\n",
        "print (\"IsPrime(37) --> \", IsPrime(37))"
      ],
      "execution_count": null,
      "outputs": []
    },
    {
      "cell_type": "markdown",
      "metadata": {
        "id": "cMBI2zEJDipd"
      },
      "source": [
        "---\n",
        "### **6.3 Add 1 to n**\n",
        "---"
      ]
    },
    {
      "cell_type": "code",
      "metadata": {
        "id": "OdcwPL2BDipe"
      },
      "source": [
        "def AddN(n):\n",
        "\ts= sum(range(n+1))\n",
        "\treturn s\n",
        "\n",
        "print (\"AddN(10) --> \", AddN(10))\n",
        "print (\"AddN(20) --> \", AddN(20))\n",
        "print (\"AddN(50) --> \", AddN(50))\n",
        "print (\"AddN(200) --> \", AddN(200))\n"
      ],
      "execution_count": null,
      "outputs": []
    },
    {
      "cell_type": "markdown",
      "metadata": {
        "id": "bWcn3nSlDipg"
      },
      "source": [
        "\n",
        "**Assingment 6.1:** WAP using function that add all odd numbers from 1 to n; n given by user.\n",
        "\n",
        "**Assingment 6.2:** WAP using function that add all even numbers from 1 to n; n given by user.\n",
        "\n",
        "**Assingment 6.3:** WAP using function that add all prime numbers from 1 to n; n given by user."
      ]
    },
    {
      "cell_type": "markdown",
      "metadata": {
        "id": "n6nFmz3zEfuq"
      },
      "source": [
        "---\n",
        "# **7. Math library**\n",
        "**Learning:** Use math library\n",
        "\n",
        "---"
      ]
    },
    {
      "cell_type": "code",
      "metadata": {
        "id": "qLiy6UxaEfus"
      },
      "source": [
        "import math as m\n",
        "print (\"exp(-200)    --> \", m.exp(-200))  # Exponential function\n",
        "print (\"log(100,2)   --> \", m.log(100,2)) # Log\n",
        "print (\"log(100,10)  --> \", m.log(100,10))# Log\n",
        "print (\"log10(100)   --> \", m.log10(100)) # Log 10\n",
        "print (\"m.cos(30)    --> \", m.cos(30))    # cos\n",
        "print (\"m.sin(30)    --> \", m.sin(30))    # sin\n",
        "print (\"m.tan(30)    --> \", m.tan(30))    # tan\n",
        "print (\"m.sqrt(324)  --> \", m.sqrt(324))\n",
        "print (\"m.ceil(89.9) --> \", m.ceil(89.9))\n",
        "print (\"m.floor(89.9)--> \", m.floor(89.9))"
      ],
      "execution_count": null,
      "outputs": []
    },
    {
      "cell_type": "markdown",
      "metadata": {
        "id": "uuGWj5Q9E7na"
      },
      "source": [
        "---\n",
        "# **8. Strings**\n",
        "**Learning:** How to handle string\n",
        "\n",
        "---\n",
        "### **8.1 Indexing in string**"
      ]
    },
    {
      "cell_type": "code",
      "metadata": {
        "id": "1OvIOp21E7nc"
      },
      "source": [
        "var1 = 'Hello World!'\n",
        "var2 = \"Python Programming\"\n",
        "print (\"var1 --> \", var1)\n",
        "print (\"var2 --> \",var2)\n",
        "print (\"var1[0] --> \", var1[0])\n",
        "print (\"var2[1:5] --> \", var2[1:5])\n",
        "print (\"var2[:-5] --> \", var2[:-5])"
      ],
      "execution_count": null,
      "outputs": []
    },
    {
      "cell_type": "markdown",
      "metadata": {
        "id": "X9V-dQU-E7nd"
      },
      "source": [
        "---\n",
        "### **8.2 String length, upper, lower**\n",
        "---"
      ]
    },
    {
      "cell_type": "code",
      "metadata": {
        "id": "y8HSuWkEE7ne"
      },
      "source": [
        "var1 = 'Hello World!'\n",
        "var2 = \"Python Programming\"\n",
        "\n",
        "print (\"var1 --> \", var1)\n",
        "print (\"var2 --> \",var2)\n",
        "\n",
        "print (\"\\nlength of var1 --> : \", len(var1))\n",
        "print (\"length of var2 --> : \", len(var2))\n",
        "\n",
        "print (\"\\nUpper of var1 --> : \", var1.upper())\n",
        "print (\"Upper of var2 --> : \", var2.upper())\n",
        "\n",
        "print (\"\\nLower of var1 --> : \", var1.lower())\n",
        "print (\"Lower of var2 --> : \", var2.lower())\n"
      ],
      "execution_count": null,
      "outputs": []
    },
    {
      "cell_type": "markdown",
      "metadata": {
        "id": "4ySbLzf1Fpi5"
      },
      "source": [
        "---\n",
        "### **8.3 String formatting**\n",
        "---"
      ]
    },
    {
      "cell_type": "code",
      "metadata": {
        "id": "RDB15138Fpi6"
      },
      "source": [
        "name=input(\"Enter your name: \")\n",
        "age=int(input(\"Enter your age: \"))\n",
        "price=float(input(\"Enter the book price: \"))\n",
        "s=\"Your name is %s, age is %d and book price is %f\" %(name.upper(),age,price)\n",
        "print (s)"
      ],
      "execution_count": null,
      "outputs": []
    },
    {
      "cell_type": "markdown",
      "metadata": {
        "id": "27Y8Dk7XFp1F"
      },
      "source": [
        "---\n",
        "### **8.4 String in Triple Quotes**\n",
        "---"
      ]
    },
    {
      "cell_type": "code",
      "metadata": {
        "id": "jiOlVj37Fp1H"
      },
      "source": [
        "para_str = \"\"\"This is a long string that is made up of\n",
        "several lines and non-printable characters such as\n",
        "TAB ( \\t ) and they will show up that way when displayed.\n",
        "NEWLINEs within the string, whether explicitly given like\n",
        "this within the brackets [ \\n ], or just a NEWLINE within\n",
        "the variable assignment will also show up.\n",
        "\"\"\"\n",
        "print (para_str)\n"
      ],
      "execution_count": null,
      "outputs": []
    },
    {
      "cell_type": "markdown",
      "metadata": {
        "id": "WK4GTOeIFp-I"
      },
      "source": [
        "---\n",
        "### **8.5 String strip**\n",
        "---"
      ]
    },
    {
      "cell_type": "code",
      "metadata": {
        "id": "tXJQREI3Fp-J"
      },
      "source": [
        "s1=\" Indian Army    \"\n",
        "s2=\" Indian     Army    \"\n",
        "s3=\"Indian, Army\"\n",
        "\n",
        "print (\"s1 --> \", s1, \"\\t Length --> \", len(s1))\n",
        "print (\"s1 strip --> \", s1.strip(), \"\\t Length --> \", len(s1.strip()))\n",
        "\n",
        "print (\"\\ns2 --> \", s2, \"\\t Length --> \", len(s2))\n",
        "print (\"s2 strip --> \", s2.strip(), \"\\t Length --> \", len(s2.strip()))\n",
        "\n",
        "print (\"\\ns3 --> \", s3, \"\\t Length --> \", len(s3))\n",
        "print (\"s3 strip --> \", s3.strip(), \"\\t Length --> \", len(s3.strip()))\n"
      ],
      "execution_count": null,
      "outputs": []
    },
    {
      "cell_type": "markdown",
      "metadata": {
        "id": "_aSibOwQFqFC"
      },
      "source": [
        "---\n",
        "### **8.6 String split**\n",
        "---"
      ]
    },
    {
      "cell_type": "code",
      "metadata": {
        "id": "02uwsbaQFqFD"
      },
      "source": [
        "s1=\" Indian Army    \"\n",
        "s2=\" Indian     Army    \"\n",
        "s3=\"Indian, Army\"\n",
        "\n",
        "print (\"s1 --> \", s1)\n",
        "print (\"s1 split --> \", s1.split())\n",
        "\n",
        "print (\"\\ns2 --> \", s2)\n",
        "print (\"s2 split --> \", s2.split())\n",
        "print (\"s2 split with ' ' --> \", s2.split(' '))\n",
        "\n",
        "print (\"\\ns3 --> \", s3)\n",
        "print (\"s3 split --> \", s3.split())\n",
        "print (\"s3 split with ' ' --> \", s3.split(\",\"))"
      ],
      "execution_count": null,
      "outputs": []
    },
    {
      "cell_type": "markdown",
      "metadata": {
        "id": "TgsO9gfoFqMV"
      },
      "source": [
        "---\n",
        "### **8.7 Count in string**\n",
        "---"
      ]
    },
    {
      "cell_type": "code",
      "metadata": {
        "id": "lwrJzwy6FqMV"
      },
      "source": [
        "s1=\" Indian Army    \"\n",
        "print (\"s1 --> \", s1)\n",
        "print (\"s1 count ' ' --> \", s1.count(' '))\n",
        "print (\"s1 count 'a' --> \", s1.count('a'))\n",
        "print (\"s1 count 'n' --> \", s1.count('an'))\n"
      ],
      "execution_count": null,
      "outputs": []
    },
    {
      "cell_type": "markdown",
      "metadata": {
        "id": "RYP11CU5FqUJ"
      },
      "source": [
        "---\n",
        "### **8.8 Reverse a String**\n",
        "---"
      ]
    },
    {
      "cell_type": "code",
      "metadata": {
        "id": "QSXd_wfOFqUK"
      },
      "source": [
        "s1=\"Indian Army\"\n",
        "print (\"s1 --> \", s1)\n",
        "print (\"s1[::1] --> \", s1[::1])\n",
        "print (\"s1[::-1] --> \", s1[::-1])\n",
        "print (\"s1[::-2] --> \", s1[::-2])\n",
        "print (\"s1[::2] --> \", s1[::2])\n",
        "s1=s1[::-1]\n",
        "print (\"s1 after reverse --> \", s1)\n"
      ],
      "execution_count": null,
      "outputs": []
    },
    {
      "cell_type": "markdown",
      "metadata": {
        "id": "E1Ie2pJRGiNz"
      },
      "source": [
        "---\n",
        "### **8.9 Palindrome**\n",
        "---"
      ]
    },
    {
      "cell_type": "code",
      "metadata": {
        "id": "-t2FMiSTGiN0"
      },
      "source": [
        "s1=\"Indian Army\"\n",
        "s2=\"malayalam\"\n",
        "s3=\"madam\"\n",
        "s4=\"teacher\"\n",
        "print (\"s1 --> \", s1==s1[::-1])\n",
        "print (\"s2 --> \", s2==s2[::-1])\n",
        "print (\"s3 --> \", s3==s3[::-1])\n",
        "print (\"s4 --> \", s4==s4[::-1])"
      ],
      "execution_count": null,
      "outputs": []
    },
    {
      "cell_type": "markdown",
      "metadata": {
        "id": "MpgFLAABG0Nn"
      },
      "source": [
        "---\n",
        "# **9. Random Numbers/String**\n",
        "**Learning:** Generate Random Numbers/String\n",
        "\n",
        "---\n",
        "### **9.1 Generate random number between 0 and 1**"
      ]
    },
    {
      "cell_type": "code",
      "metadata": {
        "id": "B2jZpOnRG0Nn"
      },
      "source": [
        "import random as r\n",
        "print (r.random())\n",
        "print (r.random())\n",
        "print (r.random())"
      ],
      "execution_count": null,
      "outputs": []
    },
    {
      "cell_type": "markdown",
      "metadata": {
        "id": "wBI9otLPG0Nn"
      },
      "source": [
        "---\n",
        "### **9.2 Generate random integer number**\n",
        "---"
      ]
    },
    {
      "cell_type": "code",
      "metadata": {
        "id": "72NOmyH-G0No"
      },
      "source": [
        "import random as r\n",
        "print (r.randint(1, 100))\n",
        "print (r.randint(1, 100))\n",
        "print (r.randint(1, 100))\n",
        "print (r.randint(-10, 10))\n",
        "print (r.randint(-10, 10))\n",
        "print (r.randint(-10, 10))"
      ],
      "execution_count": null,
      "outputs": []
    },
    {
      "cell_type": "markdown",
      "metadata": {
        "id": "gFTecYJvG0No"
      },
      "source": [
        "---\n",
        "### **9.3 Generate random real number**\n",
        "---"
      ]
    },
    {
      "cell_type": "code",
      "metadata": {
        "id": "vs3jmtqtG0No"
      },
      "source": [
        "import random as r\n",
        "print (r.uniform(1, 100))\n",
        "print (r.uniform(1, 100))\n",
        "print (r.uniform(1, 100))\n",
        "print (r.uniform (-10, 10))\n",
        "print (r.uniform (-10, 10))\n",
        "print (r.uniform (-10, 10))"
      ],
      "execution_count": null,
      "outputs": []
    },
    {
      "cell_type": "markdown",
      "metadata": {
        "id": "DJ_9Kt4XG0Np"
      },
      "source": [
        "---\n",
        "### **9.4 Generate sample from a list of elements**\n",
        "---"
      ]
    },
    {
      "cell_type": "code",
      "metadata": {
        "id": "ZVDp33YQG0Np"
      },
      "source": [
        "import random as r\n",
        "A=[1, 2, 3, 4, 5, 6, 7, 8, 9, 10]\n",
        "print (r.sample(A, 4))\n",
        "print (r.sample(A, 2))\n",
        "print (r.sample(range(1,90), 2))\n",
        "print (r.sample(range(1,90), 5))"
      ],
      "execution_count": null,
      "outputs": []
    },
    {
      "cell_type": "markdown",
      "metadata": {
        "id": "cgEXGBtsG0Np"
      },
      "source": [
        "---\n",
        "### **9.5 Generate random string**\n",
        "---"
      ]
    },
    {
      "cell_type": "code",
      "metadata": {
        "id": "T-FHSfgfG0Nq"
      },
      "source": [
        "import string as s\n",
        "import random as r\n",
        "print (\"String --> \",s.ascii_letters)\n",
        "\n",
        "passwd=r.sample(s.ascii_letters, 5)\n",
        "print (\"passwd --> \",passwd)\n",
        "passwd=\"\".join(passwd)\n",
        "print (\"passwd 1 --> \",passwd)\n",
        "\n",
        "passwd=r.sample(s.ascii_letters, 6)\n",
        "print (\"passwd --> \",passwd)\n",
        "passwd=\"+\".join(passwd)\n",
        "print (\"passwd 2 --> \",passwd)\n",
        "\n",
        "passwd=r.sample(s.ascii_letters, 8)\n",
        "print (\"passwd --> \",passwd)\n",
        "passwd=\"*\".join(passwd)\n",
        "print (\"passwd 3 --> \",passwd)"
      ],
      "execution_count": null,
      "outputs": []
    },
    {
      "cell_type": "markdown",
      "metadata": {
        "id": "9NFexXG1G0Nq"
      },
      "source": [
        "---\n",
        "### **9.6 Generate random digits**\n",
        "---"
      ]
    },
    {
      "cell_type": "code",
      "metadata": {
        "id": "mH0sHuuHG0Nq"
      },
      "source": [
        "import string as s\n",
        "import random as r\n",
        "print (\"Digits --> \",s.digits)\n",
        "\n",
        "otp=r.sample(s.digits, 5)\n",
        "print (\"otp --> \",otp)\n",
        "otp=\"\".join(otp)\n",
        "print (\"otp 1 --> \",otp)\n",
        "\n",
        "otp=r.sample(s.digits, 5)\n",
        "print (\"otp --> \",otp)\n",
        "otp=\"\".join(otp)\n",
        "print (\"otp 2 --> \",otp)\n",
        "\n",
        "otp=r.sample(s.digits, 5)\n",
        "print (\"otp --> \",otp)\n",
        "otp=\"\".join(otp)\n",
        "print (\"otp 3 --> \",otp)"
      ],
      "execution_count": null,
      "outputs": []
    },
    {
      "cell_type": "markdown",
      "metadata": {
        "id": "1bcIKPDpG0Nr"
      },
      "source": [
        "---\n",
        "### **9.7 Generate random string + digits**\n",
        "---"
      ]
    },
    {
      "cell_type": "code",
      "metadata": {
        "id": "BG-ACfp0G0Nr"
      },
      "source": [
        "import string as s\n",
        "import random as r\n",
        "print (\"String + Digits--> \",s.ascii_letters + s.digits)\n",
        "\n",
        "mixPasswd=r.sample(s.ascii_letters + s.digits, 8)\n",
        "print (\"mixPasswd --> \",mixPasswd)\n",
        "mixPasswd=\"\".join(mixPasswd)\n",
        "print (\"mixPasswd 1 --> \",mixPasswd)\n",
        "\n",
        "mixPasswd=r.sample(s.ascii_letters + s.digits, 10)\n",
        "print (\"mixPasswd --> \",mixPasswd)\n",
        "mixPasswd=\"\".join(mixPasswd)\n",
        "print (\"mixPasswd 2 --> \",mixPasswd)\n",
        "\n",
        "splChar=\"#@!~%^&*()_+=-[]{}|\"\n",
        "mixPasswd=r.sample(splChar + s.ascii_letters + s.digits, 12)\n",
        "print (\"mixPasswd --> \",mixPasswd)\n",
        "mixPasswd=\"\".join(mixPasswd)\n",
        "print (\"mixPasswd 3 --> \",mixPasswd)"
      ],
      "execution_count": null,
      "outputs": []
    },
    {
      "cell_type": "markdown",
      "metadata": {
        "id": "WcdyFjhzJo9j"
      },
      "source": [
        "---\n",
        "# **10. Exception Handaling**\n",
        "**Learning:** How to handle exceptions\n",
        "\n",
        "---\n",
        "### **10.1 Error Generation**"
      ]
    },
    {
      "cell_type": "code",
      "metadata": {
        "id": "vKJEy_SYJo9k"
      },
      "source": [
        "for i in range(-5,6):\n",
        "\tprint (\"100/\",i,\" --> \", 100/i)"
      ],
      "execution_count": null,
      "outputs": []
    },
    {
      "cell_type": "markdown",
      "metadata": {
        "id": "ulPZfl8rJo9l"
      },
      "source": [
        "---\n",
        "### **10.2 Exception handaling for division by zero**\n",
        "---"
      ]
    },
    {
      "cell_type": "code",
      "metadata": {
        "id": "GY4t0EqjJo9m"
      },
      "source": [
        "for i in range(-5,6):\n",
        "\ttry:\n",
        "\t\tprint (\"100/\",i,\" --> \", 100/i)\n",
        "\texcept:\n",
        "\t\tprint (\"error\")"
      ],
      "execution_count": null,
      "outputs": []
    },
    {
      "cell_type": "markdown",
      "metadata": {
        "id": "g1cY_zT3Jo9m"
      },
      "source": [
        "---\n",
        "### **10.3 Exception handaling for array out of index**\n",
        "---"
      ]
    },
    {
      "cell_type": "code",
      "metadata": {
        "id": "m1rBOUB3Jo9n"
      },
      "source": [
        "L=[1,2,3,4,5]\n",
        "\n",
        "for i in range(8):\n",
        "\ttry:\n",
        "\t\tprint (i,\" --> \",L[i])\n",
        "\texcept:\n",
        "\t\tprint (\"error\")"
      ],
      "execution_count": null,
      "outputs": []
    },
    {
      "cell_type": "markdown",
      "metadata": {
        "id": "kH8CATzbJo9o"
      },
      "source": [
        "---\n",
        "### **10.4 Exception handaling for file not found**\n",
        "---"
      ]
    },
    {
      "cell_type": "code",
      "metadata": {
        "id": "zZ7ns4K3Jo9o"
      },
      "source": [
        "fileName=input(\"Enter File Name: \")\n",
        "fp=open(fileName)\t# Open the file in reading mode\n",
        "fp.close()\n",
        "print (\"Done\")"
      ],
      "execution_count": null,
      "outputs": []
    },
    {
      "cell_type": "markdown",
      "metadata": {
        "id": "D4bffbZQJo9p"
      },
      "source": [
        "---\n",
        "### **10.5 Exception handaling for file not found**\n",
        "---"
      ]
    },
    {
      "cell_type": "code",
      "metadata": {
        "id": "dt3X92CyJo9q"
      },
      "source": [
        "fileName=input(\"Enter File Name: \")\n",
        "try:\n",
        "\tfp=open(fileName)\t# Open the file in reading mode\n",
        "\tfp.close()\n",
        "except:\n",
        "\tprint (\"Error !! File Not Found\")\n",
        "\n",
        "print (\"Done\")"
      ],
      "execution_count": null,
      "outputs": []
    },
    {
      "cell_type": "markdown",
      "metadata": {
        "id": "F5w6mKSaPcaj"
      },
      "source": [
        "---\n",
        "# **11. Demo of Data Structure - List**\n",
        "**Learning:** How to use list, add, delete, search in list\n",
        "\n",
        "**Note:** Read more about list and try yourself\n",
        "\n",
        "---\n",
        "### **11.1 List Decleration**\n"
      ]
    },
    {
      "cell_type": "code",
      "metadata": {
        "id": "nYnqBFRzPcas"
      },
      "source": [
        "L = [\"Pratham\",  'Sharma', 3.14,  3 ]\n",
        "print (\"Original List: \", L)\n",
        "print (\"Number of elements in list: \", len(L))"
      ],
      "execution_count": null,
      "outputs": []
    },
    {
      "cell_type": "markdown",
      "metadata": {
        "id": "xyP5tZ7IPcat"
      },
      "source": [
        "---\n",
        "### **11.2 List Iteration**\n",
        "---"
      ]
    },
    {
      "cell_type": "code",
      "metadata": {
        "id": "TIalxne5Pcat"
      },
      "source": [
        "L = [\"Pratham\",  'Sharma', 3.14,  3 ]\n",
        "print (\"Original List: \", L)\n",
        "i=0\n",
        "while i < len(L): \n",
        "\tprint (L[i])\n",
        "\ti+=1"
      ],
      "execution_count": null,
      "outputs": []
    },
    {
      "cell_type": "markdown",
      "metadata": {
        "id": "fpkfQhktPcau"
      },
      "source": [
        "---\n",
        "### **11.3 List Iteration using for loop**\n",
        "---"
      ]
    },
    {
      "cell_type": "code",
      "metadata": {
        "id": "p6mVPS1pPcau"
      },
      "source": [
        "L = [\"Pratham\",  'Sharma', 3.14,  3 ]\n",
        "print (\"Original List: \", L)\n",
        "for i in range(0, len(L)):\n",
        "\tprint (L[i])"
      ],
      "execution_count": null,
      "outputs": []
    },
    {
      "cell_type": "markdown",
      "metadata": {
        "id": "CouKDMO1Pcav"
      },
      "source": [
        "---\n",
        "### **11.4 List Iteration using for loop**\n",
        "---"
      ]
    },
    {
      "cell_type": "code",
      "metadata": {
        "id": "yT0MDFBJPcaw"
      },
      "source": [
        "L = [\"Pratham\",  'Sharma', 3.14,  3 ]\n",
        "print (\"Original List --> \", L)\n",
        "for s in L:\n",
        "\tprint (s)"
      ],
      "execution_count": null,
      "outputs": []
    },
    {
      "cell_type": "markdown",
      "metadata": {
        "id": "XeroS2dsPcay"
      },
      "source": [
        "---\n",
        "### **11.5 Adding and deleting from list**\n",
        "---"
      ]
    },
    {
      "cell_type": "code",
      "metadata": {
        "id": "rWUOXQitPcay"
      },
      "source": [
        "L = [\"Pratham\",  'Sharma', 3.14,  3 ]\n",
        "print (\"Original List --> \", L)\n",
        "L.append(\"Rahul\")\n",
        "print (\"List After Adding --> \", L)\n",
        "del L[1]\n",
        "print (\"List After Deleting --> \", L)"
      ],
      "execution_count": null,
      "outputs": []
    },
    {
      "cell_type": "markdown",
      "metadata": {
        "id": "_DxAr9ZfPcaz"
      },
      "source": [
        "---\n",
        "### **11.6 Sum/Average of List**\n",
        "---"
      ]
    },
    {
      "cell_type": "code",
      "metadata": {
        "id": "taKMcEajPca1"
      },
      "source": [
        "L=[3, 6, 9, 12, 5, 3, 2]\n",
        "print (\"Original List --> \", L)\n",
        "print (\"Sum --> \", sum(L))\n",
        "print (\"Average --> \", sum(L)/len(L))\n",
        "print (\"L * 3 --> \", L * 3)\n",
        "print (\"L + L --> \", L + L)"
      ],
      "execution_count": null,
      "outputs": []
    },
    {
      "cell_type": "markdown",
      "metadata": {
        "id": "2SIEcqKePca1"
      },
      "source": [
        "---\n",
        "### **11.7 Min/Max/Sort the list**\n",
        "---"
      ]
    },
    {
      "cell_type": "code",
      "metadata": {
        "colab": {
          "base_uri": "https://localhost:8080/",
          "height": 135
        },
        "id": "NUsOwblSPca1",
        "outputId": "123b2dc2-b64a-4ba7-91df-fef62d61cb87"
      },
      "source": [
        "L=[3, 6, 9, 12, 5, 3, 2]\n",
        "print (\"Original List --> \", L)\n",
        "print (\"max --> \", max(L))\n",
        "print (\"min --> \", min(L))\n",
        "print (\"Before Sort --> \", L)\n",
        "L.sort()\n",
        "print (\"After Sort (Asending) --> \", L)\n",
        "L.sort(reverse=True)\n",
        "print (\"After Sort (Desending) --> \", L)"
      ],
      "execution_count": 2,
      "outputs": [
        {
          "output_type": "error",
          "ename": "SyntaxError",
          "evalue": "ignored",
          "traceback": [
            "\u001b[0;36m  File \u001b[0;32m\"<ipython-input-2-b8aa7d7cf93d>\"\u001b[0;36m, line \u001b[0;32m1\u001b[0m\n\u001b[0;31m    11.7 : Min/Max/Sort the list\u001b[0m\n\u001b[0m                          ^\u001b[0m\n\u001b[0;31mSyntaxError\u001b[0m\u001b[0;31m:\u001b[0m invalid syntax\n"
          ]
        }
      ]
    },
    {
      "cell_type": "markdown",
      "metadata": {
        "id": "pX_P07ODQoQM"
      },
      "source": [
        "---\n",
        "### **11.8 Merge lists & select elements**\n",
        "---"
      ]
    },
    {
      "cell_type": "code",
      "metadata": {
        "id": "pf8csu4yQoQO"
      },
      "source": [
        "L1 = [3, 6, 9]\n",
        "L2 = [12, 5, 3, 2]\n",
        "L3 = L1 + L2\n",
        "print (\"L1 --> \",L1)\n",
        "print (\"L2 --> \",L2)\n",
        "print (\"L1 + L2 = L3 --> \",L3)\n",
        "print (\"L3[2:] --> \",L3[2:])\n",
        "print (\"L3[2:5] --> \",L3[2:5])\n",
        "print (\"L3[:-1] --> \",L3[:-1])\n",
        "print (\"L3[::2] --> \",L3[::2])"
      ],
      "execution_count": null,
      "outputs": []
    },
    {
      "cell_type": "markdown",
      "metadata": {
        "id": "2fxU9VLhQpGB"
      },
      "source": [
        "---\n",
        "### **11.9 Multiply all elements of list by a constant**\n",
        "---"
      ]
    },
    {
      "cell_type": "code",
      "metadata": {
        "id": "Karxlcp6QpGC"
      },
      "source": [
        "L = [12, 5, 3, 2, 7]\n",
        "print (\"Original List --> \", L)\n",
        "newL = [ i * 5 for i in L ]\n",
        "print (\"After Multiply with constant --> \", newL)"
      ],
      "execution_count": null,
      "outputs": []
    },
    {
      "cell_type": "markdown",
      "metadata": {
        "id": "S9_QezrcQpQ9"
      },
      "source": [
        "---\n",
        "### **11.10 Searching in the list**\n",
        "---"
      ]
    },
    {
      "cell_type": "code",
      "metadata": {
        "id": "ZptMehxhQpQ9"
      },
      "source": [
        "L=[3, 6, 9, 12, 5, 3, 2]\n",
        "print (\"Original List --> \", 6 in L)\n",
        "print (\"Original List --> \", 10 in L)\n",
        "print (\"Original List --> \", 12 in L)\n",
        "\n",
        "if (6 in L) == True:\n",
        "\tprint (\"Present\")\n",
        "else:\n",
        "\tprint (\"Not Present\")\n",
        "\n",
        "if 10 in L == False:\n",
        "\tprint (\"Not Present\")\n",
        "else:\n",
        "\tprint (\"Present\")"
      ],
      "execution_count": null,
      "outputs": []
    },
    {
      "cell_type": "markdown",
      "metadata": {
        "id": "zHAa4y1BScFQ"
      },
      "source": [
        "---\n",
        "# **12. Demo of Data Structure - Dictionary**\n",
        "**Learning:** How to use Dictionary, add, delete, search in Dictionary\n",
        "\n",
        "**Note:** Read more about Dictionary and try yourself\n",
        "\n",
        "---\n",
        "### **12.1 Declare Dictionary**"
      ]
    },
    {
      "cell_type": "code",
      "metadata": {
        "id": "T7Q4GKPaScFS"
      },
      "source": [
        "CGPA={1:8.9, 2:5.6, 4:6.7, 7:9.1, 8:5.3}\n",
        "print (\"Dictionary --> \", CGPA)\n",
        "print (\"Total dictionary contants --> \", len(CGPA))\n",
        "print (\"CGPA of 1 --> \", CGPA[1])\n",
        "print (\"CGPA of 4 --> \", CGPA[4])\n",
        "print (\"CGPA of 7 --> \", CGPA[7])\n",
        "print (\"CGPA of 3 --> \", CGPA[3])"
      ],
      "execution_count": null,
      "outputs": []
    },
    {
      "cell_type": "markdown",
      "metadata": {
        "id": "BxbeipLlScFS"
      },
      "source": [
        "---\n",
        "### **12.2 Triverse dictionary**\n",
        "---"
      ]
    },
    {
      "cell_type": "code",
      "metadata": {
        "id": "iWXBcVNTScFT"
      },
      "source": [
        "CGPA={1:8.9, 2:5.6, 4:6.7, 7:9.1, 8:5.3}\n",
        "for k in CGPA:\n",
        "\tprint (\"CGPA of \", k, \" --> \", CGPA[k])"
      ],
      "execution_count": null,
      "outputs": []
    },
    {
      "cell_type": "markdown",
      "metadata": {
        "id": "O721iFiOScFT"
      },
      "source": [
        "---\n",
        "### **12.3 Getting Keys and Values**\n",
        "---"
      ]
    },
    {
      "cell_type": "code",
      "metadata": {
        "id": "dnPH-GCyScFU"
      },
      "source": [
        "CGPA={1:8.9, 2:5.6, 4:6.7, 7:9.1, 8:5.3}\n",
        "print (\"Dictionary --> \", CGPA)\n",
        "print (\"Keys --> \", CGPA.keys())\n",
        "print (\"Values --> \", CGPA.values())"
      ],
      "execution_count": null,
      "outputs": []
    },
    {
      "cell_type": "markdown",
      "metadata": {
        "id": "v2ooUfguScFV"
      },
      "source": [
        "---\n",
        "### **12.4 Updating, Adding and Deleting from Dictionary**\n",
        "---"
      ]
    },
    {
      "cell_type": "code",
      "metadata": {
        "id": "zO_QA0GNScFV"
      },
      "source": [
        "CGPA={1:8.9,2:5.6,4:6.7,7:9.1,8:5.3}\n",
        "print (\"Original Dictionary --> \", CGPA)\n",
        "CGPA[4] = 9.2\n",
        "print (\"Dictionary After Updating (4) --> \", CGPA)\n",
        "CGPA[3] = 8.6\n",
        "print (\"Dictionary After Adding (3) --> \", CGPA)\n",
        "del CGPA[1]\n",
        "print (\"Dictionary After Deleting (1) --> \", CGPA)\n",
        "CGPA.clear()\n",
        "print (\"Dictionary after clear --> \", CGPA)\n",
        "del CGPA\n",
        "print (\"Dictionary after delete --> \", CGPA)"
      ],
      "execution_count": null,
      "outputs": []
    },
    {
      "cell_type": "markdown",
      "metadata": {
        "id": "8SPV0FVyScFW"
      },
      "source": [
        "---\n",
        "### **12.5 Checking for Key in Dictionary**\n",
        "---"
      ]
    },
    {
      "cell_type": "code",
      "metadata": {
        "id": "Bwt-yAtpScFW"
      },
      "source": [
        "CGPA={1:8.9, 2:5.6, 4:6.7, 7:9.1, 8:5.3}\n",
        "print (\"Original Dictionary --> \", CGPA)\n",
        "print (\"Is Key 2 Present --> \", 2 in CGPA)\n",
        "print (\"Is Key 9 Present --> \", 9 in CGPA)"
      ],
      "execution_count": null,
      "outputs": []
    },
    {
      "cell_type": "markdown",
      "metadata": {
        "id": "_KifQnHnScFX"
      },
      "source": [
        "---\n",
        "### **12.6**\n",
        "---"
      ]
    },
    {
      "cell_type": "code",
      "metadata": {
        "id": "tM4fQro9ScFZ"
      },
      "source": [
        "HomeTown={\"Prashant\":\"Delhi\", \"Govind\":\"Gwalior\", \"Anil\":\"Morena\", \"Pankaj\":\"Agra\"}\n",
        "print (\"Original Dictionary --> \", HomeTown)\n",
        "print (\"Home Town of Prashant is --> \", HomeTown[\"Prashant\"])\n",
        "print (\"Home Town of Govind is --> \", HomeTown[\"Govind\"])\n",
        "print (\"Home Town of Anil is --> \", HomeTown[\"Anil\"])\n",
        "print (\"Home Town of Pankaj is --> \", HomeTown[\"Pankaj\"])\n"
      ],
      "execution_count": null,
      "outputs": []
    },
    {
      "cell_type": "markdown",
      "metadata": {
        "id": "ZQIFxo4GScFa"
      },
      "source": [
        "---\n",
        "### **12.7**\n",
        "---"
      ]
    },
    {
      "cell_type": "code",
      "metadata": {
        "colab": {
          "base_uri": "https://localhost:8080/",
          "height": 136
        },
        "id": "hOADMSpvScFa",
        "outputId": "123b2dc2-b64a-4ba7-91df-fef62d61cb87"
      },
      "source": [
        "HomeTown={\"Prashant\":\"Delhi\", \"Govind\":\"Gwalior\", \"Anil\":\"Morena\", \"Pankaj\":\"Agra\"}\n",
        "print (\"Original Dictionary --> \", HomeTown)\n",
        "\n",
        "for d in HomeTown:\n",
        "\tprint (\"Home Town of \", d, \" is  --> \", HomeTown[d])"
      ],
      "execution_count": null,
      "outputs": [
        {
          "output_type": "error",
          "ename": "SyntaxError",
          "evalue": "ignored",
          "traceback": [
            "\u001b[0;36m  File \u001b[0;32m\"<ipython-input-2-b8aa7d7cf93d>\"\u001b[0;36m, line \u001b[0;32m1\u001b[0m\n\u001b[0;31m    11.7 : Min/Max/Sort the list\u001b[0m\n\u001b[0m                          ^\u001b[0m\n\u001b[0;31mSyntaxError\u001b[0m\u001b[0;31m:\u001b[0m invalid syntax\n"
          ]
        }
      ]
    },
    {
      "cell_type": "markdown",
      "metadata": {
        "id": "Hom72Xe6Z1sJ"
      },
      "source": [
        "---\n",
        "# **13 Demo of Data Structure - Touple**\n",
        "\n",
        "**Learning:** How to use Touple, add, delete, search in Touple\n",
        "\n",
        "**Note:** Read more about Touple and try yourself\n",
        "\n",
        "---\n"
      ]
    },
    {
      "cell_type": "markdown",
      "metadata": {
        "id": "nP1BXJvpaSMR"
      },
      "source": [
        "---\n",
        "# **14 Demo of Data Structure - Set**\n",
        "\n",
        "**Learning:** How to use Set, add, delete, search in Set\n",
        "\n",
        "**Note:** Read more about Set and try yourself\n",
        "\n",
        "---\n",
        "### **14.1**"
      ]
    },
    {
      "cell_type": "code",
      "metadata": {
        "id": "q7k_3HyiaWwa"
      },
      "source": [
        "s = set(['A', 'B', 'E', 'F','E', 'F' ])\n",
        "print (\"Original set --> \", s)\n",
        "print (\"Number of elements in set --> \", len(s))"
      ],
      "execution_count": null,
      "outputs": []
    },
    {
      "cell_type": "markdown",
      "metadata": {
        "id": "ltLfKXfKardd"
      },
      "source": [
        "---\n",
        "### **14.2 Opertions on Sets**\n",
        "---"
      ]
    },
    {
      "cell_type": "code",
      "metadata": {
        "colab": {
          "base_uri": "https://localhost:8080/",
          "height": 136
        },
        "id": "s8KiiSKSardf",
        "outputId": "123b2dc2-b64a-4ba7-91df-fef62d61cb87"
      },
      "source": [
        "a = set(['A', 'B', 'E', 'F' ])\n",
        "b = set([\"A\", \"C\", \"D\", \"E\"])\n",
        "print (\"Original set a --> \", a)\n",
        "print (\"Original set b --> \", b)\n",
        "print (\"Union of a and b --> \", a.union(b))\n",
        "print (\"Intersection of a and b --> \", a.intersection(b))\n",
        "print (\"Difference a - b --> \", a - b)\n",
        "print (\"Difference a - b --> \", a.difference(b))\n",
        "print (\"Difference b - a --> \", b - a)\n",
        "print (\"Difference b - a --> \", b.difference(a))\n",
        "print (\"Symetric Difference a - b --> \", a.symmetric_difference(b))\n",
        "print (\"Symetric Difference b - a --> \", b.symmetric_difference(a))"
      ],
      "execution_count": null,
      "outputs": [
        {
          "output_type": "error",
          "ename": "SyntaxError",
          "evalue": "ignored",
          "traceback": [
            "\u001b[0;36m  File \u001b[0;32m\"<ipython-input-2-b8aa7d7cf93d>\"\u001b[0;36m, line \u001b[0;32m1\u001b[0m\n\u001b[0;31m    11.7 : Min/Max/Sort the list\u001b[0m\n\u001b[0m                          ^\u001b[0m\n\u001b[0;31mSyntaxError\u001b[0m\u001b[0;31m:\u001b[0m invalid syntax\n"
          ]
        }
      ]
    },
    {
      "cell_type": "markdown",
      "metadata": {
        "id": "oGG-LZJhars5"
      },
      "source": [
        "---\n",
        "### **14.3 Add, delete, pop element from set**\n",
        "---"
      ]
    },
    {
      "cell_type": "code",
      "metadata": {
        "colab": {
          "base_uri": "https://localhost:8080/",
          "height": 136
        },
        "id": "6MfSdtaUars6",
        "outputId": "123b2dc2-b64a-4ba7-91df-fef62d61cb87"
      },
      "source": [
        "a = set(['A', 'B', 'E', 'F' ])\n",
        "print (\"Original set a --> \", a)\n",
        "a.add(\"D\")\n",
        "print (\"Set After Adding (D) --> \", a)\n",
        "a.add(\"D\")\n",
        "print (\"Set After Adding (D) --> \", a)\n",
        "a.remove(\"D\")\n",
        "print (\"Set After Deleting (D) --> \", a)\n",
        "a.pop()\n",
        "print (\"Set After pop --> \", a)"
      ],
      "execution_count": null,
      "outputs": [
        {
          "output_type": "error",
          "ename": "SyntaxError",
          "evalue": "ignored",
          "traceback": [
            "\u001b[0;36m  File \u001b[0;32m\"<ipython-input-2-b8aa7d7cf93d>\"\u001b[0;36m, line \u001b[0;32m1\u001b[0m\n\u001b[0;31m    11.7 : Min/Max/Sort the list\u001b[0m\n\u001b[0m                          ^\u001b[0m\n\u001b[0;31mSyntaxError\u001b[0m\u001b[0;31m:\u001b[0m invalid syntax\n"
          ]
        }
      ]
    },
    {
      "cell_type": "markdown",
      "metadata": {
        "id": "spvefWIWbNAR"
      },
      "source": [
        "---\n",
        "# **15. Command Line Argument**\n",
        "\n",
        "**Learning:** How to Take input from command line and process it\n",
        "\n",
        "**Note:** To run the program at cmd line\n",
        "- $ python Program.py 10 20\n",
        "\n",
        "---\n",
        "### **15.1 Add two numbers given at cmd line**\n",
        "**Note:** To run the program at cmd line\n",
        "- $ python Program.py 10 20"
      ]
    },
    {
      "cell_type": "code",
      "metadata": {
        "id": "0ieaM9uebNAS"
      },
      "source": [
        "import sys\n",
        "print (sys.argv)\n",
        "a = int(sys.argv[1]) \t# First Number\n",
        "b = int(sys.argv[2])\t# Second Number\n",
        "c = a + b\n",
        "print (a, \" + \", b, \" --> \", c)"
      ],
      "execution_count": null,
      "outputs": []
    },
    {
      "cell_type": "markdown",
      "metadata": {
        "id": "jGBXdT5CbNAT"
      },
      "source": [
        "---\n",
        "### **15.2 Concatinate two strings given at cmd line**\n",
        "**Note:** To run the program at cmd line\n",
        "- $ python Program.py FirstString SecondString\n",
        "---\n"
      ]
    },
    {
      "cell_type": "code",
      "metadata": {
        "colab": {
          "base_uri": "https://localhost:8080/",
          "height": 136
        },
        "id": "dg117QSIbNAU",
        "outputId": "123b2dc2-b64a-4ba7-91df-fef62d61cb87"
      },
      "source": [
        "import sys\n",
        "print (sys.argv)\n",
        "s = sys.argv[1] + \" \" + sys.argv[2]\n",
        "print (sys.argv[1], \" + \", sys.argv[2], \" --> \", s)"
      ],
      "execution_count": null,
      "outputs": [
        {
          "output_type": "error",
          "ename": "SyntaxError",
          "evalue": "ignored",
          "traceback": [
            "\u001b[0;36m  File \u001b[0;32m\"<ipython-input-2-b8aa7d7cf93d>\"\u001b[0;36m, line \u001b[0;32m1\u001b[0m\n\u001b[0;31m    11.7 : Min/Max/Sort the list\u001b[0m\n\u001b[0m                          ^\u001b[0m\n\u001b[0;31mSyntaxError\u001b[0m\u001b[0;31m:\u001b[0m invalid syntax\n"
          ]
        }
      ]
    },
    {
      "cell_type": "markdown",
      "metadata": {
        "id": "Gtu3hMwabNAW"
      },
      "source": [
        "---\n",
        "### **15.3 Add all the numbers given at cmd line**\n",
        "**Note:** To run the program at cmd line\n",
        "- $ python Program.py 10 20 30 40\n",
        "---"
      ]
    },
    {
      "cell_type": "code",
      "metadata": {
        "colab": {
          "base_uri": "https://localhost:8080/",
          "height": 136
        },
        "id": "QSHWbDHmbNAX",
        "outputId": "123b2dc2-b64a-4ba7-91df-fef62d61cb87"
      },
      "source": [
        "import sys\n",
        "print (sys.argv)\n",
        "sum=0\n",
        "for s in sys.argv[1:]:\n",
        "\tsum += int(s)\n",
        "\n",
        "print (\"Sum is --> \", sum)\n"
      ],
      "execution_count": null,
      "outputs": [
        {
          "output_type": "error",
          "ename": "SyntaxError",
          "evalue": "ignored",
          "traceback": [
            "\u001b[0;36m  File \u001b[0;32m\"<ipython-input-2-b8aa7d7cf93d>\"\u001b[0;36m, line \u001b[0;32m1\u001b[0m\n\u001b[0;31m    11.7 : Min/Max/Sort the list\u001b[0m\n\u001b[0m                          ^\u001b[0m\n\u001b[0;31mSyntaxError\u001b[0m\u001b[0;31m:\u001b[0m invalid syntax\n"
          ]
        }
      ]
    },
    {
      "cell_type": "markdown",
      "metadata": {
        "id": "-wicdMoyfLoZ"
      },
      "source": [
        "---\n",
        "# **16. File Handling**\n",
        "\n",
        "**Learning:** How to open the file, how to read line by line\n",
        "\n",
        "---\n",
        "### **16.1 Print the content of file line by line**\n",
        "**Note:** First create a file abc.txt and write some lines\n"
      ]
    },
    {
      "cell_type": "code",
      "metadata": {
        "id": "oX-fBKbpfLob"
      },
      "source": [
        "fp=open('abc.txt')\t\t# Open the file in reading mode\n",
        "for line in fp: \t\t# print line by line\n",
        "\tprint (line)\n",
        "fp.close()"
      ],
      "execution_count": null,
      "outputs": []
    },
    {
      "cell_type": "markdown",
      "metadata": {
        "id": "-6OU-QD_fLoc"
      },
      "source": [
        "---\n",
        "### **16.2 Writing 1 to 10 in file**\n",
        "---\n"
      ]
    },
    {
      "cell_type": "code",
      "metadata": {
        "colab": {
          "base_uri": "https://localhost:8080/",
          "height": 136
        },
        "id": "jiPQizlEfLod",
        "outputId": "123b2dc2-b64a-4ba7-91df-fef62d61cb87"
      },
      "source": [
        "fp=open('result.txt','w')\t# Open the file in writing mode\n",
        "for  i in range(1,11):\n",
        "\tfp.write(str(i) + \"\\n\")\t# Writing to the file line by line\n",
        "fp.close()\n",
        "\n",
        "print (\"Writing done !! \\nOpen result.txt to view the content\")"
      ],
      "execution_count": null,
      "outputs": [
        {
          "output_type": "error",
          "ename": "SyntaxError",
          "evalue": "ignored",
          "traceback": [
            "\u001b[0;36m  File \u001b[0;32m\"<ipython-input-2-b8aa7d7cf93d>\"\u001b[0;36m, line \u001b[0;32m1\u001b[0m\n\u001b[0;31m    11.7 : Min/Max/Sort the list\u001b[0m\n\u001b[0m                          ^\u001b[0m\n\u001b[0;31mSyntaxError\u001b[0m\u001b[0;31m:\u001b[0m invalid syntax\n"
          ]
        }
      ]
    },
    {
      "cell_type": "markdown",
      "metadata": {
        "id": "Sby32ykwfLof"
      },
      "source": [
        "---\n",
        "### **16.3 Read from one file, Convert it to upper case and write to other file**\n",
        "---"
      ]
    },
    {
      "cell_type": "code",
      "metadata": {
        "colab": {
          "base_uri": "https://localhost:8080/",
          "height": 136
        },
        "id": "rjvJZNv_fLoh",
        "outputId": "123b2dc2-b64a-4ba7-91df-fef62d61cb87"
      },
      "source": [
        "Readfp=open('abc.txt')\t\t# Open the file in reading mode\n",
        "Writefp=open('result.txt','w')\t# Open the file in writing mode\n",
        "for line in Readfp: \n",
        "\tWritefp.write(line.upper())\n",
        "\t\n",
        "Writefp.close()\n",
        "Readfp.close()\n",
        "\n",
        "print (\"Writing done !! \\nOpen result.txt to view the content\")"
      ],
      "execution_count": null,
      "outputs": [
        {
          "output_type": "error",
          "ename": "SyntaxError",
          "evalue": "ignored",
          "traceback": [
            "\u001b[0;36m  File \u001b[0;32m\"<ipython-input-2-b8aa7d7cf93d>\"\u001b[0;36m, line \u001b[0;32m1\u001b[0m\n\u001b[0;31m    11.7 : Min/Max/Sort the list\u001b[0m\n\u001b[0m                          ^\u001b[0m\n\u001b[0;31mSyntaxError\u001b[0m\u001b[0;31m:\u001b[0m invalid syntax\n"
          ]
        }
      ]
    }
  ]
}